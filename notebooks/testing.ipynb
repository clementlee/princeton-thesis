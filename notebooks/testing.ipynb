{
 "cells": [
  {
   "cell_type": "code",
   "execution_count": 1,
   "metadata": {
    "collapsed": false,
    "deletable": true,
    "editable": true
   },
   "outputs": [
    {
     "name": "stdout",
     "output_type": "stream",
     "text": [
      "483.723\n",
      "211.99\n",
      "204.355\n",
      "209.606\n",
      "215.268\n",
      "202.594\n",
      "214.36\n",
      "223.602\n",
      "212.173\n",
      "209.1\n"
     ]
    }
   ],
   "source": [
    "import tensorflow as tf\n",
    "import numpy as np\n",
    "import random\n",
    "import math\n",
    "\n",
    "x = tf.placeholder(tf.float32, [None, 1])\n",
    "y = tf.placeholder(tf.float32, [None, 1])\n",
    "c = tf.placeholder(tf.int32)\n",
    "\n",
    "\n",
    "def gensin(num):\n",
    "    # inarr = [[random.random()] for i in xrange(num)]\n",
    "    inarr = np.float32(np.random.uniform(-2*math.pi, 2*math.pi, (1, num))).T\n",
    "    #inarr = tf.random_uniform([num,1], minval =)\n",
    "    outarr = np.sin(inarr)\n",
    "    # outarr = mapk(lambda x: [math.sin(x[0])], inarr)\n",
    "    \n",
    "    return inarr, outarr\n",
    "\n",
    "fw1 = tf.get_variable(\"fullweights1\", [1,100], initializer=tf.contrib.layers.xavier_initializer())\n",
    "#asdf = tf.stop_gradient(tf.slice(fw1, [0,0],[1,c]))\n",
    "w1 = tf.slice(fw1, [0,0],[1,c]) \n",
    "#w1 = tf.stop_gradient(w1)\n",
    "fb1 = tf.get_variable(\"fullbias1\", [100])\n",
    "b1 = tf.slice(fb1, [0], [c])\n",
    "    \n",
    "h = tf.matmul(x, w1) # + b1\n",
    "h2 = tf.nn.relu(h)\n",
    "                           \n",
    "fw2 = tf.get_variable(\"fullweights2\", [100,1], initializer=tf.contrib.layers.xavier_initializer())\n",
    "w2 = tf.slice(fw2, [0,0],[c,1])\n",
    "#w2 = tf.stop_gradient(w2)\n",
    "fb2 = tf.get_variable(\"fullbias2\", [1])\n",
    "b2 = tf.slice(fb2, [0], [1])\n",
    "    \n",
    "yhat = tf.matmul(h2, w2) + b2\n",
    "    \n",
    "train_step = tf.train.AdamOptimizer().minimize(tf.nn.l2_loss(yhat - y))\n",
    "\n",
    "init = tf.global_variables_initializer()\n",
    "sess = tf.Session()\n",
    "sess.run(init)\n",
    "\n",
    "for i in xrange(10000):\n",
    "    cval = 100\n",
    "    inarr, outarr = gensin(10000)\n",
    "    sess.run(train_step, feed_dict={x:inarr, y:outarr, c:cval})\n",
    "    if i % 1000 == 0:\n",
    "        inarr, outarr = gensin(1000)\n",
    "        print sess.run(tf.nn.l2_loss(yhat-outarr), feed_dict={x:inarr, c:cval})\n",
    "    \n"
   ]
  },
  {
   "cell_type": "code",
   "execution_count": 2,
   "metadata": {
    "collapsed": false,
    "deletable": true,
    "editable": true
   },
   "outputs": [
    {
     "data": {
      "text/plain": [
       "array([[ -1.41193414e-05,  -4.36244756e-02,   3.66338193e-02,\n",
       "          2.45782398e-02,  -1.55914843e-03,   1.47654772e-01,\n",
       "         -7.18229711e-02,   1.38838142e-01,  -1.47039726e-01,\n",
       "          2.13103592e-01,   7.76462555e-02,  -3.31065096e-02,\n",
       "         -1.61414027e-01,   2.33996609e-38,   4.14234912e-03,\n",
       "         -2.40447029e-01,   1.26290902e-01,   7.05190226e-02,\n",
       "          1.40796557e-01,   1.22122219e-37,   5.23377694e-02,\n",
       "          2.16723487e-01,  -5.00680394e-02,  -4.56055477e-02,\n",
       "         -1.55026659e-01,  -1.43749550e-01,   6.21796865e-03,\n",
       "          6.00050129e-02,  -1.48593277e-01,  -1.76089585e-01,\n",
       "         -2.05665067e-01,   4.64819074e-02,  -9.28762779e-02,\n",
       "         -4.46784281e-04,  -4.07397188e-02,  -1.85059786e-01,\n",
       "         -5.50279543e-02,   1.23728728e-02,   1.77044168e-01,\n",
       "          5.12257032e-02,  -4.15780097e-37,  -1.21000692e-01,\n",
       "          7.72080645e-02,   1.33501709e-01,   5.58607951e-02,\n",
       "         -8.31794553e-03,   1.37871355e-01,   0.00000000e+00,\n",
       "         -1.03039891e-01,  -1.14365414e-01,   8.12983289e-02,\n",
       "         -2.08422452e-01,  -1.69227049e-01,  -6.63790256e-02,\n",
       "          1.91798210e-01,  -1.03031002e-01,   1.49199487e-37,\n",
       "          2.07864866e-01,   2.31012285e-01,  -6.52451441e-02,\n",
       "         -1.04571082e-01,   9.32828337e-02,   1.14152446e-01,\n",
       "          7.38629017e-38,  -7.77103603e-02,  -8.70936289e-02,\n",
       "          1.62921458e-01,   6.21074848e-02,  -1.36906445e-01,\n",
       "          8.81659836e-02,   2.13458732e-01,   1.72967594e-02,\n",
       "          1.03351409e-02,  -1.74525768e-01,  -1.32448584e-01,\n",
       "         -7.28692412e-02,  -1.50982672e-02,  -2.84580085e-02,\n",
       "         -5.48114404e-02,   9.11971740e-03,  -1.76100448e-01,\n",
       "          1.61472782e-02,  -1.25670135e-01,   5.55628948e-02,\n",
       "         -6.43588603e-02,   7.91573972e-02,   8.18472207e-02,\n",
       "         -2.20225081e-01,   9.61391330e-02,   8.68504047e-02,\n",
       "         -4.13251556e-02,   7.57369250e-02,   1.42514389e-02,\n",
       "          3.86329778e-02,  -1.91337764e-01,  -7.45770708e-02,\n",
       "         -8.79868418e-02,   8.07399228e-02,   1.93157226e-01,\n",
       "         -9.58407149e-02]], dtype=float32)"
      ]
     },
     "execution_count": 2,
     "metadata": {},
     "output_type": "execute_result"
    }
   ],
   "source": [
    "sess.run(fw1)"
   ]
  },
  {
   "cell_type": "code",
   "execution_count": 3,
   "metadata": {
    "collapsed": false,
    "deletable": true,
    "editable": true
   },
   "outputs": [
    {
     "data": {
      "text/plain": [
       "array([[ -1.41193414e-05,  -4.36244756e-02,   3.66338193e-02,\n",
       "          2.45782398e-02,  -1.55914843e-03,   1.47654772e-01,\n",
       "         -7.18229711e-02,   1.38838142e-01,  -1.47039726e-01,\n",
       "          2.13103592e-01,   7.76462555e-02,  -3.31065096e-02,\n",
       "         -1.61414027e-01,   2.33996609e-38,   4.14234912e-03,\n",
       "         -2.40447029e-01,   1.26290902e-01,   7.05190226e-02,\n",
       "          1.40796557e-01,   1.22122219e-37,   5.23377694e-02,\n",
       "          2.16723487e-01,  -5.00680394e-02,  -4.56055477e-02,\n",
       "         -1.55026659e-01,  -1.43749550e-01,   6.21796865e-03,\n",
       "          6.00050129e-02,  -1.48593277e-01,  -1.76089585e-01,\n",
       "         -2.05665067e-01,   4.64819074e-02,  -9.28762779e-02,\n",
       "         -4.46784281e-04,  -4.07397188e-02,  -1.85059786e-01,\n",
       "         -5.50279543e-02,   1.23728728e-02,   1.77044168e-01,\n",
       "          5.12257032e-02,  -4.15780097e-37,  -1.21000692e-01,\n",
       "          7.72080645e-02,   1.33501709e-01,   5.58607951e-02,\n",
       "         -8.31794553e-03,   1.37871355e-01,   0.00000000e+00,\n",
       "         -1.03039891e-01,  -1.14365414e-01]], dtype=float32)"
      ]
     },
     "execution_count": 3,
     "metadata": {},
     "output_type": "execute_result"
    }
   ],
   "source": [
    "sess.run(w1, feed_dict={c:50})"
   ]
  },
  {
   "cell_type": "code",
   "execution_count": 4,
   "metadata": {
    "collapsed": false,
    "deletable": true,
    "editable": true
   },
   "outputs": [
    {
     "name": "stdout",
     "output_type": "stream",
     "text": [
      "[[ 5.44645929]]\n",
      "[[-0.39615455]]\n"
     ]
    }
   ],
   "source": [
    "test = np.float32(np.random.uniform(-2*math.pi, 2*math.pi, (1, 1))).T\n",
    "\n",
    "print test\n",
    "\n",
    "print sess.run(yhat, feed_dict={x:test, c:100})"
   ]
  },
  {
   "cell_type": "code",
   "execution_count": 5,
   "metadata": {
    "collapsed": false,
    "deletable": true,
    "editable": true
   },
   "outputs": [
    {
     "name": "stdout",
     "output_type": "stream",
     "text": [
      "(array([[ 4.34444237]], dtype=float32), array([[-0.93306792]], dtype=float32))\n"
     ]
    }
   ],
   "source": [
    "print gensin(1)"
   ]
  }
 ],
 "metadata": {
  "kernelspec": {
   "display_name": "Python 2",
   "language": "python",
   "name": "python2"
  },
  "language_info": {
   "codemirror_mode": {
    "name": "ipython",
    "version": 2
   },
   "file_extension": ".py",
   "mimetype": "text/x-python",
   "name": "python",
   "nbconvert_exporter": "python",
   "pygments_lexer": "ipython2",
   "version": "2.7.12"
  }
 },
 "nbformat": 4,
 "nbformat_minor": 2
}
